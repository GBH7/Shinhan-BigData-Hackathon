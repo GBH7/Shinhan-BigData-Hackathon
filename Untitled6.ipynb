{
  "nbformat": 4,
  "nbformat_minor": 0,
  "metadata": {
    "colab": {
      "provenance": [],
      "collapsed_sections": [],
      "mount_file_id": "1mYuvu9eoczWCdCtIth_XYpKfQfZfUrZ-",
      "authorship_tag": "ABX9TyPczarXRlsCjVwJLkrc/SqH",
      "include_colab_link": true
    },
    "kernelspec": {
      "name": "python3",
      "display_name": "Python 3"
    },
    "language_info": {
      "name": "python"
    }
  },
  "cells": [
    {
      "cell_type": "markdown",
      "metadata": {
        "id": "view-in-github",
        "colab_type": "text"
      },
      "source": [
        "<a href=\"https://colab.research.google.com/github/GBH7/Shinhan-BigData-Hackathon/blob/main/Untitled6.ipynb\" target=\"_parent\"><img src=\"https://colab.research.google.com/assets/colab-badge.svg\" alt=\"Open In Colab\"/></a>"
      ]
    },
    {
      "cell_type": "code",
      "execution_count": 1,
      "metadata": {
        "id": "9K6no5im8Ods"
      },
      "outputs": [],
      "source": [
        "import numpy as np \n",
        "import pandas as pd   \n",
        "import matplotlib.pyplot as plt\n",
        "import seaborn as sns "
      ]
    },
    {
      "cell_type": "code",
      "source": [
        "# cvs파일을 pandas를 사용하여 dataframe 형태로 불러옵니다.\n",
        "df_origin = pd.read_csv(\"//.csv\", encoding='cp949')"
      ],
      "metadata": {
        "id": "Dki4PfES8RHO"
      },
      "execution_count": null,
      "outputs": []
    },
    {
      "cell_type": "code",
      "source": [
        "# 5개의 데이터 샘플을 출력합니다.\n",
        "df_origin.head()"
      ],
      "metadata": {
        "id": "Yax4Rj2h-qwk"
      },
      "execution_count": null,
      "outputs": []
    },
    {
      "cell_type": "code",
      "source": [
        "# dataframe의 정보를 요약해서 출력합니다.\n",
        "df_origin.info()"
      ],
      "metadata": {
        "id": "8Da8ZlIj-s6N"
      },
      "execution_count": null,
      "outputs": []
    },
    {
      "cell_type": "code",
      "source": [
        "# 수치형 변수의 데이터 정보를 요약하여 출력합니다.\n",
        "df_origin.describe()"
      ],
      "metadata": {
        "id": "h7rs_K_D-0QB"
      },
      "execution_count": null,
      "outputs": []
    },
    {
      "cell_type": "code",
      "source": [
        "# 결측값 정보를 출력합니다.\n",
        "df_origin.isnull().sum()"
      ],
      "metadata": {
        "id": "Xu6Sfs-P-3hp"
      },
      "execution_count": null,
      "outputs": []
    },
    {
      "cell_type": "code",
      "source": [
        "#분석 제외 데이터 제거\n",
        "df_clean = df_origin.drop(columns = ['B106', 'B107'])\n",
        "df_clean"
      ],
      "metadata": {
        "id": "-QivYRs0Bxpw"
      },
      "execution_count": null,
      "outputs": []
    },
    {
      "cell_type": "code",
      "source": [
        "df_clean['P7'].unique()"
      ],
      "metadata": {
        "id": "D2jY0fwfbnc9"
      },
      "execution_count": null,
      "outputs": []
    },
    {
      "cell_type": "code",
      "source": [
        "#P1은 성별을 나타내고, 0은 남자고 1은 여자이다.\n",
        "df_clean['P1'] = df_clean['P1'].replace({'M':0, 'F':1})\n",
        "df_clean"
      ],
      "metadata": {
        "id": "l0ibIhzrbXdd"
      },
      "execution_count": null,
      "outputs": []
    },
    {
      "cell_type": "code",
      "source": [
        "#더미함수 추가\n",
        "dummies = pd.get_dummies(df_clean['P7'])\n",
        "df_clean = pd.concat([df_clean, dummies], axis=1)\n",
        "df_clean"
      ],
      "metadata": {
        "id": "IdAfdcaZkHBN"
      },
      "execution_count": null,
      "outputs": []
    },
    {
      "cell_type": "code",
      "source": [
        "df_clean['P2'].unique()"
      ],
      "metadata": {
        "id": "e08evlnIGzEo"
      },
      "execution_count": null,
      "outputs": []
    },
    {
      "cell_type": "code",
      "source": [
        "#나이를 범주화\n",
        "df_clean['P2'] = df_clean['P2'].replace({'20대_초':20, '20대_후':25, '30대_초':30, '30대_후':35, '40대_초':40, '40대_후':45, '50대_초':50, '50대_후':55, '60대_초':60, '60대_후':65})\n",
        "df_clean"
      ],
      "metadata": {
        "id": "lryltSP6me_0"
      },
      "execution_count": null,
      "outputs": []
    },
    {
      "cell_type": "code",
      "source": [
        "df_clean.rename(columns={'A은행': 'A_Bank', 'B은행': 'B_Bank', 'A증권사': 'A_Brokerage', 'B증권사': 'B_Brokerage'}, inplace=True)\n",
        "df_clean"
      ],
      "metadata": {
        "id": "6GNaGnf7yudZ"
      },
      "execution_count": null,
      "outputs": []
    },
    {
      "cell_type": "code",
      "source": [
        "df_clean.drop('P7', axis= 1, inplace= True)\n",
        "df_clean\n",
        "#P7 한글이 들어가있으므로 삭제하고 더미로 만들어서 맨뒤에 뺌\n",
        "#P1은 성별\n",
        "#P2는 나잇대"
      ],
      "metadata": {
        "id": "JpAWGurVwJLq"
      },
      "execution_count": null,
      "outputs": []
    },
    {
      "cell_type": "code",
      "source": [
        "#보험 고객 데이터만 분리\n",
        "df_client = df_clean[df_clean['P6'] == 1]\n",
        "df_client"
      ],
      "metadata": {
        "id": "SOsXzX5B_D53"
      },
      "execution_count": null,
      "outputs": []
    },
    {
      "cell_type": "code",
      "source": [
        "#보험 비고객 데이터만 분리\n",
        "df_Nclient = df_clean[df_clean['P6'] == 0]\n",
        "df_Nclient"
      ],
      "metadata": {
        "id": "mzzzcmrQBWyi"
      },
      "execution_count": null,
      "outputs": []
    },
    {
      "cell_type": "code",
      "source": [
        "# 그래프의 사이즈를 조절합니다.\n",
        "plt.figure(figsize=(20,5))\n",
        "\n",
        "# seaborn의 countplot 함수를 사용하여 출력합니다.\n",
        "sns.set(style='darkgrid')\n",
        "ax = sns.countplot(x='P1', data=df_client, palette=\"Set2\")"
      ],
      "metadata": {
        "id": "B-jATrGZBo0J"
      },
      "execution_count": null,
      "outputs": []
    },
    {
      "cell_type": "code",
      "source": [
        "# 그래프의 사이즈를 조절합니다.\n",
        "plt.figure(figsize=(20,5))\n",
        "\n",
        "# seaborn의 countplot 함수를 사용하여 출력합니다.\n",
        "sns.set(style='darkgrid')\n",
        "ax = sns.countplot(x='P1', data=df_Nclient, palette=\"Set2\")"
      ],
      "metadata": {
        "id": "NBFd2mjlTjg2"
      },
      "execution_count": null,
      "outputs": []
    },
    {
      "cell_type": "code",
      "source": [
        "# 그래프의 사이즈를 조절합니다.\n",
        "plt.figure(figsize=(20,5))\n",
        "\n",
        "# seaborn의 countplot 함수를 사용하여 출력합니다.\n",
        "sns.set(style='darkgrid')\n",
        "ax = sns.countplot(x='P2', data=df_clean, palette=\"Set2\")"
      ],
      "metadata": {
        "id": "iXzo1iYORgKt"
      },
      "execution_count": null,
      "outputs": []
    }
  ]
}